{
  "nbformat": 4,
  "nbformat_minor": 0,
  "metadata": {
    "colab": {
      "name": "ANN_Fruits.ipynb",
      "provenance": [],
      "collapsed_sections": [],
      "machine_shape": "hm",
      "mount_file_id": "1-XBMafxbjb8CHG1KciSV5AUFtmJ-ixFn",
      "authorship_tag": "ABX9TyNW7A3ZOPcX8TmOsOtWTEwW"
    },
    "kernelspec": {
      "name": "python3",
      "display_name": "Python 3"
    },
    "accelerator": "TPU"
  },
  "cells": [
    {
      "cell_type": "code",
      "metadata": {
        "id": "uDjBrxG0jJmw"
      },
      "source": [
        "import numpy as np\n",
        "import matplotlib.pyplot as plt\n",
        "import seaborn as sns\n",
        "import random as random\n",
        "import keras\n",
        "from keras.preprocessing.image import array_to_img, img_to_array, load_img\n",
        "from keras.callbacks import EarlyStopping, ModelCheckpoint\n",
        "from keras.models import Sequential\n",
        "from keras.models import model_from_json\n",
        "from keras.layers import Dense, Dropout\n",
        "from keras.utils import to_categorical\n",
        "from sklearn.datasets import load_files\n",
        "from sklearn.metrics import classification_report,confusion_matrix, accuracy_score, zero_one_loss, f1_score, multilabel_confusion_matrix\n",
        "from sklearn.model_selection import train_test_split, cross_val_score, GridSearchCV\n",
        "from sklearn.preprocessing import StandardScaler"
      ],
      "execution_count": null,
      "outputs": []
    },
    {
      "cell_type": "code",
      "metadata": {
        "id": "TRyikamKkSc-",
        "outputId": "cc33d0e0-b7da-4fae-ecbf-7c85e33d0555",
        "colab": {
          "base_uri": "https://localhost:8080/"
        }
      },
      "source": [
        "train_data = '/content/fruits-360/Train'\n",
        "test_data = '/content/fruits-360/Test'\n",
        "def load_dataset(path):\n",
        "    data = load_files(path)\n",
        "    files = np.array(data['filenames'])\n",
        "    targets = np.array(data['target'])\n",
        "    target_labels = np.array(data['target_names'])\n",
        "    return files,targets,target_labels\n",
        "    \n",
        "x_train, y_train,target_labels = load_dataset(train_data)\n",
        "x_test, y_test,_ = load_dataset(test_data)\n",
        "print('Loading complete!')\n",
        "\n",
        "print('Training set size : ' , x_train.shape[0])\n",
        "print('Testing set size : ', x_test.shape[0])"
      ],
      "execution_count": null,
      "outputs": [
        {
          "output_type": "stream",
          "text": [
            "Loading complete!\n",
            "Training set size :  67692\n",
            "Testing set size :  22688\n"
          ],
          "name": "stdout"
        }
      ]
    },
    {
      "cell_type": "code",
      "metadata": {
        "id": "Y2LzkRBQkjJ7",
        "outputId": "93f0bc4e-86c0-45a1-de37-586cd3a39f16",
        "colab": {
          "base_uri": "https://localhost:8080/"
        }
      },
      "source": [
        "def convert_image_to_array(files):\n",
        "    images_as_array=[]\n",
        "    for file in files:\n",
        "        # Convert to Numpy Array\n",
        "        img = load_img(file)  #read an image \n",
        "        images_array= img_to_array(img)   #convert image to NumPy array\n",
        "        images_as_array.append(images_array.flatten()) #flatten the image array and append it to images_as_array\n",
        "    return images_as_array\n",
        "\n",
        "x_train = np.array(convert_image_to_array(x_train))\n",
        "print('Training set shape : ',x_train.shape)\n",
        "\n",
        "x_valid = np.array(convert_image_to_array(x_valid))\n",
        "print('Validation set shape : ',x_valid.shape)\n",
        "\n",
        "x_test = np.array(convert_image_to_array(x_test))\n",
        "print('Test set shape : ',x_test.shape)\n",
        "\n",
        "print('1st training image shape ',x_train[0].shape)"
      ],
      "execution_count": null,
      "outputs": [
        {
          "output_type": "stream",
          "text": [
            "Training set shape :  (67692, 30000)\n",
            "Validation set shape :  (7000, 30000)\n",
            "Test set shape :  (22688, 30000)\n",
            "1st training image shape  (30000,)\n"
          ],
          "name": "stdout"
        }
      ]
    },
    {
      "cell_type": "code",
      "metadata": {
        "id": "A1YSR6HpW1Qi"
      },
      "source": [
        "#features scaling\n",
        "std = StandardScaler()\n",
        "x_train = std.fit_transform(x_train)\n",
        "x_test = std.transform (x_test)\n"
      ],
      "execution_count": null,
      "outputs": []
    },
    {
      "cell_type": "code",
      "metadata": {
        "id": "CNbVWedZ8m3R"
      },
      "source": [
        "no_of_classes = len(np.unique(y_train))\n",
        "y_train = to_categorical(y_train,no_of_classes)\n",
        "y_test = to_categorical(y_test,no_of_classes)"
      ],
      "execution_count": null,
      "outputs": []
    },
    {
      "cell_type": "code",
      "metadata": {
        "id": "6IIKyonq8tx4"
      },
      "source": [
        "x_test,x_valid = x_test[7000:],x_test[:7000]\n",
        "y_test,y_vaild = y_test[7000:],y_test[:7000]"
      ],
      "execution_count": null,
      "outputs": []
    },
    {
      "cell_type": "code",
      "metadata": {
        "id": "n2t6a9VSzJGA"
      },
      "source": [
        "input_size = x_train.shape[1]\n",
        "model = Sequential()\n",
        "model.add(Dense(600, activation = 'relu' , input_dim=input_size))\n",
        "model.add(Dropout(0.30))\n",
        "model.add(Dense(600, activation ='relu'))\n",
        "model.add(Dropout(0.30))\n",
        "model.add(Dense(600, activation ='relu'))\n",
        "model.add(Dropout(0.30))\n",
        "model.add(Dense(600, activation ='relu'))\n",
        "model.add(Dropout(0.30))\n",
        "model.add(Dense(600, activation ='relu'))\n",
        "model.add(Dropout(0.30))\n",
        "model.add(Dense(600, activation ='relu'))\n",
        "model.add(Dropout(0.30))\n",
        "model.add(Dense(600, activation ='relu'))\n",
        "\n",
        "model.add(Dense(131,activation= 'softmax'))"
      ],
      "execution_count": null,
      "outputs": []
    },
    {
      "cell_type": "code",
      "metadata": {
        "id": "BlKFD0bA53KU"
      },
      "source": [
        "model.compile(loss='categorical_crossentropy', optimizer='nadam',metrics=['accuracy'])\n",
        "early_stop = keras.callbacks.EarlyStopping(monitor = 'val_loss', patience = 6, \n",
        "                                           mode = 'min', verbose=1, restore_best_weights= True)"
      ],
      "execution_count": null,
      "outputs": []
    },
    {
      "cell_type": "code",
      "metadata": {
        "id": "KwrEoA9T6wBL",
        "outputId": "d548b543-1470-43a6-aeed-fd53e2d9867a",
        "colab": {
          "base_uri": "https://localhost:8080/"
        }
      },
      "source": [
        "history = model.fit(x_train, y_train, epochs=30 , batch_size=80, \n",
        "                    validation_data= (x_valid, y_vaild), shuffle= True,  callbacks = [early_stop])"
      ],
      "execution_count": null,
      "outputs": [
        {
          "output_type": "stream",
          "text": [
            "Epoch 1/30\n",
            "847/847 [==============================] - 87s 102ms/step - loss: 2.5583 - accuracy: 0.3109 - val_loss: 1.5052 - val_accuracy: 0.5620\n",
            "Epoch 2/30\n",
            "847/847 [==============================] - 88s 104ms/step - loss: 1.1698 - accuracy: 0.6458 - val_loss: 0.9166 - val_accuracy: 0.7470\n",
            "Epoch 3/30\n",
            "847/847 [==============================] - 88s 104ms/step - loss: 0.8153 - accuracy: 0.7646 - val_loss: 0.7075 - val_accuracy: 0.8041\n",
            "Epoch 4/30\n",
            "847/847 [==============================] - 88s 104ms/step - loss: 0.6995 - accuracy: 0.8118 - val_loss: 0.8824 - val_accuracy: 0.7917\n",
            "Epoch 5/30\n",
            "847/847 [==============================] - 88s 103ms/step - loss: 0.6282 - accuracy: 0.8391 - val_loss: 0.6994 - val_accuracy: 0.8479\n",
            "Epoch 6/30\n",
            "847/847 [==============================] - 87s 103ms/step - loss: 0.5901 - accuracy: 0.8553 - val_loss: 0.7891 - val_accuracy: 0.8401\n",
            "Epoch 7/30\n",
            "847/847 [==============================] - 87s 103ms/step - loss: 0.5965 - accuracy: 0.8600 - val_loss: 0.8308 - val_accuracy: 0.8521\n",
            "Epoch 8/30\n",
            "847/847 [==============================] - 89s 105ms/step - loss: 0.6146 - accuracy: 0.8626 - val_loss: 0.8190 - val_accuracy: 0.8493\n",
            "Epoch 9/30\n",
            "847/847 [==============================] - 91s 107ms/step - loss: 0.5852 - accuracy: 0.8717 - val_loss: 0.7674 - val_accuracy: 0.8687\n",
            "Epoch 10/30\n",
            "847/847 [==============================] - 89s 104ms/step - loss: 0.6248 - accuracy: 0.8657 - val_loss: 0.7048 - val_accuracy: 0.8710\n",
            "Epoch 11/30\n",
            "847/847 [==============================] - 87s 103ms/step - loss: 0.5976 - accuracy: 0.8756 - val_loss: 0.6204 - val_accuracy: 0.8800\n",
            "Epoch 12/30\n",
            "847/847 [==============================] - 88s 104ms/step - loss: 0.6234 - accuracy: 0.8724 - val_loss: 0.9213 - val_accuracy: 0.8597\n",
            "Epoch 13/30\n",
            "847/847 [==============================] - 88s 104ms/step - loss: 0.7042 - accuracy: 0.8632 - val_loss: 0.8603 - val_accuracy: 0.8799\n",
            "Epoch 14/30\n",
            "847/847 [==============================] - 88s 104ms/step - loss: 0.6424 - accuracy: 0.8755 - val_loss: 0.9125 - val_accuracy: 0.8641\n",
            "Epoch 15/30\n",
            "847/847 [==============================] - 86s 101ms/step - loss: 0.6347 - accuracy: 0.8784 - val_loss: 1.1093 - val_accuracy: 0.8753\n",
            "Epoch 16/30\n",
            "847/847 [==============================] - 86s 102ms/step - loss: 0.7446 - accuracy: 0.8608 - val_loss: 1.0637 - val_accuracy: 0.8800\n",
            "Epoch 17/30\n",
            "847/847 [==============================] - ETA: 0s - loss: 0.9422 - accuracy: 0.8267Restoring model weights from the end of the best epoch.\n",
            "847/847 [==============================] - 88s 104ms/step - loss: 0.9422 - accuracy: 0.8267 - val_loss: 1.4134 - val_accuracy: 0.8059\n",
            "Epoch 00017: early stopping\n"
          ],
          "name": "stdout"
        }
      ]
    },
    {
      "cell_type": "code",
      "metadata": {
        "id": "zaTcvVEtktFV",
        "outputId": "370693f8-13f7-4bf9-8c0a-ae107b013f63",
        "colab": {
          "base_uri": "https://localhost:8080/"
        }
      },
      "source": [
        "score = model.evaluate(x_test, y_test, verbose=1, batch_size=128)\n",
        "print('Test loss:', score[0])\n",
        "print('Test accuracy:', score[1]*100)"
      ],
      "execution_count": null,
      "outputs": [
        {
          "output_type": "stream",
          "text": [
            "123/123 [==============================] - 2s 14ms/step - loss: 0.6451 - accuracy: 0.8829\n",
            "Test loss: 0.6450703740119934\n",
            "Test accuracy: 88.29041123390198\n"
          ],
          "name": "stdout"
        }
      ]
    },
    {
      "cell_type": "code",
      "metadata": {
        "id": "_6taWfSukw0g",
        "outputId": "0a705419-e51a-4d57-f012-363e1156b3c0",
        "colab": {
          "base_uri": "https://localhost:8080/",
          "height": 404
        }
      },
      "source": [
        "figure,ax=plt.subplots(figsize=(8,6))\n",
        "plt.plot(history.history['accuracy'])  \n",
        "plt.plot(history.history['val_accuracy'])  \n",
        "plt.title('model accuracy')  \n",
        "plt.ylabel('accuracy')  \n",
        "plt.xlabel('epoch')  \n",
        "plt.legend(['train', 'validation'], loc='lower right')  \n",
        "figure.savefig('model_accuracy_88.png')  \n",
        "plt.show() "
      ],
      "execution_count": null,
      "outputs": [
        {
          "output_type": "display_data",
          "data": {
            "image/png": "[encoded data removed]",
            "text/plain": [
              "<Figure size 576x432 with 1 Axes>"
            ]
          },
          "metadata": {
            "tags": [],
            "needs_background": "light"
          }
        }
      ]
    },
    {
      "cell_type": "code",
      "metadata": {
        "id": "1luqv4F4k3Jt",
        "outputId": "e04064a3-98b6-4f39-fb19-b54fc66b7691",
        "colab": {
          "base_uri": "https://localhost:8080/",
          "height": 404
        }
      },
      "source": [
        "figure,ax=plt.subplots(figsize=(8,6))\n",
        "plt.plot(history.history['loss'])  \n",
        "plt.plot(history.history['val_loss'])  \n",
        "plt.title('model loss')  \n",
        "plt.ylabel('loss')  \n",
        "plt.xlabel('epoch')  \n",
        "plt.legend(['train', 'validation'], loc='upper right')  \n",
        "figure.savefig('model_loss_88.png')  \n",
        "plt.show()"
      ],
      "execution_count": null,
      "outputs": [
        {
          "output_type": "display_data",
          "data": {
            "image/png": "[encoded data removed]",
            "text/plain": [
              "<Figure size 576x432 with 1 Axes>"
            ]
          },
          "metadata": {
            "tags": [],
            "needs_background": "light"
          }
        }
      ]
    },
    {
      "cell_type": "code",
      "metadata": {
        "id": "uBj-4FDFVaJV",
        "outputId": "bf7f3988-97f6-4057-e8ee-8bbf6b551c78",
        "colab": {
          "base_uri": "https://localhost:8080/"
        }
      },
      "source": [
        "# serialize model to JSON\n",
        "model_json = model.to_json()\n",
        "with open(\"model_88.json\", \"w\") as json_file:\n",
        "    json_file.write(model_json)\n",
        "# serialize weights to HDF5\n",
        "model.save_weights(\"model_88.h5\")\n",
        "print(\"Saved model to disk\")"
      ],
      "execution_count": null,
      "outputs": [
        {
          "output_type": "stream",
          "text": [
            "Saved model to disk\n"
          ],
          "name": "stdout"
        }
      ]
    },
    {
      "cell_type": "code",
      "metadata": {
        "id": "0Z5BOO90Vmcc",
        "outputId": "aa143b4e-b78a-4023-bc2e-837f38ca3520",
        "colab": {
          "base_uri": "https://localhost:8080/"
        }
      },
      "source": [
        "# load json and create model\n",
        "json_file = open('model_88.json', 'r')\n",
        "loaded_model_json = json_file.read()\n",
        "json_file.close()\n",
        "loaded_model = model_from_json(loaded_model_json)\n",
        "# load weights into new model\n",
        "loaded_model.load_weights(\"model_88.h5\")\n",
        "print(\"Loaded model from disk\")\n",
        " \n"
      ],
      "execution_count": null,
      "outputs": [
        {
          "output_type": "stream",
          "text": [
            "Loaded model from disk\n"
          ],
          "name": "stdout"
        }
      ]
    },
    {
      "cell_type": "code",
      "metadata": {
        "id": "ZdDq3Vd_Wl6R",
        "outputId": "5e5d6ff7-2d3f-424e-a7e1-990fd3d25737",
        "colab": {
          "base_uri": "https://localhost:8080/"
        }
      },
      "source": [
        "# evaluate loaded model on test data\n",
        "loaded_model.compile(loss='categorical_crossentropy', optimizer='nadam', metrics=['accuracy'])\n",
        "score = loaded_model.evaluate(x_test, y_test, verbose=0)\n",
        "print(\"%s: %.2f%%\" % (loaded_model.metrics_names[1], score[1]*100))"
      ],
      "execution_count": null,
      "outputs": [
        {
          "output_type": "stream",
          "text": [
            "accuracy: 88.29%\n"
          ],
          "name": "stdout"
        }
      ]
    },
    {
      "cell_type": "code",
      "metadata": {
        "id": "0HtVH0cmx8JQ",
        "outputId": "520c240b-c7dd-48ef-ed50-edd8dac6af89",
        "colab": {
          "base_uri": "https://localhost:8080/"
        }
      },
      "source": [
        "#confusion matrix\n",
        "y_pred=model.predict(x_test)\n",
        "y_pred_classes=np.argmax(y_pred,axis=1)\n",
        "y_true=np.argmax(y_test,axis=1)\n",
        "#compute conf mat\n",
        "conf_mat=confusion_matrix(y_true,y_pred_classes)\n",
        "#plot the con mat\n",
        "accuracy = accuracy_score(y_true, y_pred_classes)\n",
        "print('accuracy = ', accuracy)\n",
        "f1 = f1_score(y_true, y_pred_classes, average ='micro')\n",
        "print('f1_score = ', f1)\n",
        "print('confusion_matrix  : \\n ', conf_mat )\n"
      ],
      "execution_count": null,
      "outputs": [
        {
          "output_type": "stream",
          "text": [
            "accuracy =  0.88290413054564\n",
            "f1_score =  0.88290413054564\n",
            "confusion_matrix  : \n",
            "  [[117   0   0 ...   0   0   0]\n",
            " [  0  87   0 ...   0   0   0]\n",
            " [  0   0  95 ...   0   0   0]\n",
            " ...\n",
            " [  0   0   0 ... 115   0   0]\n",
            " [  0   0   0 ...   0 171   0]\n",
            " [  0   0   0 ...   3   0 106]]\n"
          ],
          "name": "stdout"
        }
      ]
    },
    {
      "cell_type": "code",
      "metadata": {
        "id": "aEqHtcsSNibr",
        "outputId": "714c53cc-57e1-44f7-fa07-c6c577b67415",
        "colab": {
          "base_uri": "https://localhost:8080/"
        }
      },
      "source": [
        "\n",
        "print(classification_report(y_true, y_pred_classes))"
      ],
      "execution_count": null,
      "outputs": [
        {
          "output_type": "stream",
          "text": [
            "              precision    recall  f1-score   support\n",
            "\n",
            "           0       0.54      1.00      0.70       117\n",
            "           1       0.84      0.86      0.85       101\n",
            "           2       0.95      0.90      0.93       105\n",
            "           3       1.00      1.00      1.00       110\n",
            "           4       0.67      1.00      0.80       106\n",
            "           5       0.93      0.96      0.95       119\n",
            "           6       0.80      1.00      0.89       107\n",
            "           7       1.00      0.72      0.84       114\n",
            "           8       1.00      0.74      0.85       114\n",
            "           9       0.92      0.59      0.72        97\n",
            "          10       0.94      1.00      0.97       120\n",
            "          11       0.93      0.79      0.86       117\n",
            "          12       0.99      1.00      1.00       141\n",
            "          13       1.00      1.00      1.00       106\n",
            "          14       1.00      1.00      1.00       104\n",
            "          15       0.83      1.00      0.91       109\n",
            "          16       0.46      0.67      0.55       116\n",
            "          17       0.74      0.25      0.37       106\n",
            "          18       0.78      0.62      0.69       122\n",
            "          19       0.67      0.35      0.46       109\n",
            "          20       0.97      0.67      0.80       104\n",
            "          21       0.90      1.00      0.95       115\n",
            "          22       0.99      1.00      1.00       118\n",
            "          23       0.83      1.00      0.91       127\n",
            "          24       0.96      0.68      0.80       110\n",
            "          25       0.91      1.00      0.95       159\n",
            "          26       0.74      1.00      0.85       106\n",
            "          27       0.86      1.00      0.92       171\n",
            "          28       0.96      0.80      0.87       173\n",
            "          29       1.00      1.00      1.00       117\n",
            "          30       0.83      1.00      0.91       116\n",
            "          31       0.98      1.00      0.99       113\n",
            "          32       0.81      0.38      0.52       103\n",
            "          33       1.00      1.00      1.00       119\n",
            "          34       0.95      0.87      0.91       109\n",
            "          35       0.59      0.39      0.47        97\n",
            "          36       1.00      0.80      0.89        96\n",
            "          37       0.97      0.73      0.83        92\n",
            "          38       1.00      0.97      0.98       117\n",
            "          39       1.00      1.00      1.00       117\n",
            "          40       0.79      0.30      0.43       104\n",
            "          41       0.99      0.95      0.97       154\n",
            "          42       0.50      0.88      0.64        69\n",
            "          43       0.92      1.00      0.96       117\n",
            "          44       0.86      0.98      0.91       217\n",
            "          45       0.87      1.00      0.93       111\n",
            "          46       0.97      1.00      0.99       115\n",
            "          47       0.98      1.00      0.99       120\n",
            "          48       0.99      1.00      1.00       102\n",
            "          49       0.94      1.00      0.97       106\n",
            "          50       0.98      1.00      0.99       112\n",
            "          51       1.00      1.00      1.00       109\n",
            "          52       1.00      0.98      0.99       113\n",
            "          53       0.95      0.96      0.95       117\n",
            "          54       1.00      1.00      1.00       114\n",
            "          55       0.92      1.00      0.96       115\n",
            "          56       0.99      0.88      0.93       111\n",
            "          57       0.98      0.92      0.95       112\n",
            "          58       1.00      1.00      1.00       113\n",
            "          59       0.89      0.51      0.65       123\n",
            "          60       1.00      1.00      1.00       126\n",
            "          61       1.00      1.00      1.00       109\n",
            "          62       1.00      1.00      1.00       121\n",
            "          63       1.00      0.96      0.98       121\n",
            "          64       1.00      0.97      0.99       117\n",
            "          65       0.78      0.75      0.77        89\n",
            "          66       0.85      0.70      0.77        71\n",
            "          67       0.98      0.84      0.90       119\n",
            "          68       0.93      0.81      0.87       171\n",
            "          69       1.00      1.00      1.00       104\n",
            "          70       0.64      0.45      0.53       108\n",
            "          71       1.00      0.75      0.86       116\n",
            "          72       0.97      1.00      0.99       146\n",
            "          73       0.91      0.60      0.72       124\n",
            "          74       0.92      0.95      0.94       109\n",
            "          75       0.93      0.75      0.83       110\n",
            "          76       0.69      1.00      0.82       100\n",
            "          77       1.00      1.00      1.00       118\n",
            "          78       0.92      1.00      0.96       114\n",
            "          79       1.00      1.00      1.00       116\n",
            "          80       0.83      0.72      0.77       105\n",
            "          81       0.90      1.00      0.95       182\n",
            "          82       0.71      0.65      0.68       109\n",
            "          83       1.00      0.63      0.77       124\n",
            "          84       0.71      0.41      0.52       146\n",
            "          85       0.88      0.82      0.85       116\n",
            "          86       0.77      0.93      0.84       168\n",
            "          87       0.97      0.55      0.70        71\n",
            "          88       0.58      0.97      0.73       119\n",
            "          89       0.99      0.93      0.96       144\n",
            "          90       0.68      0.92      0.78       165\n",
            "          91       1.00      0.56      0.72       107\n",
            "          92       0.68      1.00      0.81       110\n",
            "          93       0.95      1.00      0.98       106\n",
            "          94       0.99      0.99      0.99       167\n",
            "          95       0.74      0.82      0.77       157\n",
            "          96       0.96      1.00      0.98       148\n",
            "          97       0.98      1.00      0.99       122\n",
            "          98       0.77      1.00      0.87       110\n",
            "          99       1.00      0.98      0.99       111\n",
            "         100       0.98      1.00      0.99       118\n",
            "         101       0.96      1.00      0.98       116\n",
            "         102       0.88      0.60      0.71       108\n",
            "         103       0.69      1.00      0.82        95\n",
            "         104       0.71      1.00      0.83       212\n",
            "         105       0.81      0.60      0.69       111\n",
            "         106       1.00      1.00      1.00       110\n",
            "         107       0.64      0.53      0.58       100\n",
            "         108       0.81      0.74      0.77       104\n",
            "         109       0.82      0.37      0.51        99\n",
            "         110       0.92      0.76      0.84       106\n",
            "         111       0.95      1.00      0.97       114\n",
            "         112       0.64      1.00      0.78       119\n",
            "         113       0.99      1.00      1.00       109\n",
            "         114       1.00      1.00      1.00       106\n",
            "         115       0.73      1.00      0.84       107\n",
            "         116       0.94      0.90      0.92       109\n",
            "         117       0.80      0.75      0.77       169\n",
            "         118       1.00      1.00      1.00       114\n",
            "         119       1.00      1.00      1.00       118\n",
            "         120       1.00      1.00      1.00       179\n",
            "         121       0.80      1.00      0.89       150\n",
            "         122       0.90      0.86      0.88       176\n",
            "         123       1.00      0.99      1.00       114\n",
            "         124       0.87      1.00      0.93       114\n",
            "         125       1.00      1.00      1.00       154\n",
            "         126       1.00      1.00      1.00        82\n",
            "         127       1.00      0.99      1.00       111\n",
            "         128       0.97      1.00      0.98       115\n",
            "         129       0.86      1.00      0.92       171\n",
            "         130       1.00      0.97      0.99       109\n",
            "\n",
            "    accuracy                           0.88     15688\n",
            "   macro avg       0.89      0.87      0.87     15688\n",
            "weighted avg       0.89      0.88      0.88     15688\n",
            "\n"
          ],
          "name": "stdout"
        }
      ]
    },
    {
      "cell_type": "code",
      "metadata": {
        "id": "PUhkCzJ9acIN",
        "outputId": "906959c1-9875-4652-d2ee-48099882a3e0",
        "colab": {
          "base_uri": "https://localhost:8080/"
        }
      },
      "source": [
        "zero_loss = zero_one_loss(y_true, y_pred_classes)\n",
        "print('zero_one_loss: ' , zero_loss)"
      ],
      "execution_count": null,
      "outputs": [
        {
          "output_type": "stream",
          "text": [
            "zero_one_loss:  0.11709586945436001\n"
          ],
          "name": "stdout"
        }
      ]
    }
  ]
}